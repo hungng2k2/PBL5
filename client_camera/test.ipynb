{
 "cells": [
  {
   "cell_type": "code",
   "execution_count": 4,
   "metadata": {},
   "outputs": [],
   "source": [
    "from facereg import FaceNet_Recognizer_EuclideanDistance\n",
    "\n",
    "model = FaceNet_Recognizer_EuclideanDistance()"
   ]
  },
  {
   "cell_type": "code",
   "execution_count": 5,
   "metadata": {},
   "outputs": [],
   "source": [
    "model.load_from_firebase()"
   ]
  },
  {
   "cell_type": "code",
   "execution_count": 6,
   "metadata": {},
   "outputs": [
    {
     "name": "stdout",
     "output_type": "stream",
     "text": [
      "\n",
      "            n_clusters = 5\n",
      "            threshold = 0.5179034975888157\n",
      "            unique_labels_num = 14\n",
      "            unique_labels = ['Do Khoi' 'Hieu Tran' 'Huu Huy' 'Minh Nhat' 'Minh Tuan' 'Nhat Hung'\n",
      " 'Nhat Huy' 'Phuoc Huy' 'Phuong Uyen' 'Quang Nhat' 'Trung Hieu'\n",
      " 'Tuan Kiet' 'Vinh Quang' 'Đo Quan']\n",
      "            \n"
     ]
    }
   ],
   "source": [
    "print(model)"
   ]
  },
  {
   "cell_type": "code",
   "execution_count": 7,
   "metadata": {},
   "outputs": [],
   "source": [
    "model.load(\"./Face_recognition_euclidean_distance/\")"
   ]
  },
  {
   "cell_type": "code",
   "execution_count": 9,
   "metadata": {},
   "outputs": [
    {
     "name": "stdout",
     "output_type": "stream",
     "text": [
      "\n",
      "            n_clusters = 5\n",
      "            threshold = 0.5179034975888157\n",
      "            unique_labels_num = 15\n",
      "            unique_labels = ['Do Khoi' 'Hieu Tran' 'Huu Huy' 'Minh Nhat' 'Minh Tuan' 'Nguyen Hung'\n",
      " 'Nhat Hung' 'Nhat Huy' 'Phuoc Huy' 'Phuong Uyen' 'Quang Nhat'\n",
      " 'Trung Hieu' 'Tuan Kiet' 'Vinh Quang' 'Đo Quan']\n",
      "            \n"
     ]
    }
   ],
   "source": [
    "print(model)"
   ]
  }
 ],
 "metadata": {
  "kernelspec": {
   "display_name": "face_recognition",
   "language": "python",
   "name": "python3"
  },
  "language_info": {
   "codemirror_mode": {
    "name": "ipython",
    "version": 3
   },
   "file_extension": ".py",
   "mimetype": "text/x-python",
   "name": "python",
   "nbconvert_exporter": "python",
   "pygments_lexer": "ipython3",
   "version": "3.8.0"
  },
  "orig_nbformat": 4
 },
 "nbformat": 4,
 "nbformat_minor": 2
}
